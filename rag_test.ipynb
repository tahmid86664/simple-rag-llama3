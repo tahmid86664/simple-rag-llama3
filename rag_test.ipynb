{
 "cells": [
  {
   "cell_type": "code",
   "execution_count": 1,
   "metadata": {},
   "outputs": [
    {
     "data": {
      "text/plain": [
       "'19aefeca-47a1-4805-b897-dec997564163'"
      ]
     },
     "execution_count": 1,
     "metadata": {},
     "output_type": "execute_result"
    }
   ],
   "source": [
    "from os import getenv\n",
    "from dotenv import load_dotenv\n",
    "\n",
    "load_dotenv()\n",
    "\n",
    "PINECONE_API_KEY = getenv(\"PINECONE_API_KEY\")\n",
    "PINECONE_API_KEY"
   ]
  },
  {
   "cell_type": "code",
   "execution_count": 2,
   "metadata": {},
   "outputs": [],
   "source": [
    "MODEL = \"llama3\""
   ]
  },
  {
   "cell_type": "code",
   "execution_count": 3,
   "metadata": {},
   "outputs": [],
   "source": [
    "from langchain_community.llms import Ollama\n",
    "from langchain_community.embeddings import OllamaEmbeddings\n",
    "\n",
    "model = Ollama(model=MODEL)\n",
    "embeddings = OllamaEmbeddings(model=MODEL)"
   ]
  },
  {
   "cell_type": "code",
   "execution_count": 7,
   "metadata": {},
   "outputs": [
    {
     "name": "stdout",
     "output_type": "stream",
     "text": [
      "What a great question!\n",
      "\n",
      "The reddish hue you're observing in the sky just before sunset is called \"sunset glow\" or \"sundowner.\" It's a common phenomenon that occurs when the sun is low on the horizon, typically during the last hour or so before sundown. Here are some reasons why this happens:\n",
      "\n",
      "1. **Atmospheric scattering**: When the sun's rays enter Earth's atmosphere, they encounter tiny molecules of gases like nitrogen and oxygen. These molecules scatter shorter (blue) wavelengths of light more than longer (red) wavelengths, a phenomenon known as Rayleigh scattering. As the sun dips lower in the sky, the light it emits has to travel longer distances through the atmosphere, which means more blue light is scattered away, leaving mainly red and orange hues.\n",
      "2. **Dust and aerosols**: Tiny particles like dust, pollen, and other aerosols in the air can also scatter shorter wavelengths of light, enhancing the reddish color. These particles are often more abundant near sunset due to human activities or natural sources like wildfires.\n",
      "3. **Clouds and haze**: If there are clouds or haze in the atmosphere, they can reflect and scatter the sun's rays, adding to the redness of the sky.\n",
      "4. **Angular perspective**: When the sun is low on the horizon, our line of sight is more oblique (angled) relative to the sun. This means we're seeing the light as it passes through a thicker layer of atmosphere, which can amplify the reddish hue.\n",
      "\n",
      "So, the combination of atmospheric scattering, dust and aerosols, clouds and haze, and angular perspective all contribute to the reddish color you see in the sky just before sunset!\n",
      "\n",
      "Now, go enjoy that beautiful sundowner!\n"
     ]
    }
   ],
   "source": [
    "ans = model.invoke(\"Why the sky is becoming redish just before the evening?\")\n",
    "print(ans)"
   ]
  },
  {
   "cell_type": "code",
   "execution_count": 4,
   "metadata": {},
   "outputs": [],
   "source": [
    "from langchain_core.output_parsers import StrOutputParser\n",
    "\n",
    "parser = StrOutputParser()"
   ]
  },
  {
   "cell_type": "code",
   "execution_count": 34,
   "metadata": {},
   "outputs": [
    {
     "data": {
      "text/plain": [
       "\"Machine learning (ML) is a subfield of artificial intelligence (AI) that involves training algorithms to make decisions or predictions based on data, without being explicitly programmed. In other words, ML allows computers to learn from experience and improve their performance over time.\\n\\nHere's how it works:\\n\\n1. **Training**: You provide the algorithm with a large dataset, which is used to train the model.\\n2. **Model**: The algorithm learns patterns and relationships within the data, creating a model that can make predictions or take actions.\\n3. **Testing**: You test the model on new, unseen data to evaluate its performance.\\n\\nMachine learning involves various types of algorithms, such as:\\n\\n1. **Supervised Learning**: The algorithm is trained on labeled data (e.g., images with labels) to learn relationships and make predictions.\\n2. **Unsupervised Learning**: The algorithm discovers patterns and structures within the data without labeled examples.\\n3. **Reinforcement Learning**: The algorithm learns by interacting with an environment, receiving rewards or penalties for its actions.\\n\\nMachine learning has many applications in:\\n\\n1. **Computer Vision**: Image recognition, object detection, facial recognition, etc.\\n2. **Natural Language Processing** (NLP): Sentiment analysis, language translation, text summarization, etc.\\n3. **Recommendation Systems**: Suggesting products or services based on user behavior and preferences.\\n4. **Speech Recognition**: Transcribing spoken language into written text.\\n5. **Autonomous Vehicles**: Predictive maintenance, route planning, obstacle detection, etc.\\n\\nThe benefits of machine learning include:\\n\\n1. **Improved accuracy**: ML models can learn from data and improve their performance over time.\\n2. **Scalability**: ML algorithms can handle large datasets and make predictions in real-time.\\n3. **Flexibility**: ML models can be applied to various domains and tasks.\\n\\nHowever, machine learning also has its challenges:\\n\\n1. **Data quality**: The quality of the training data is crucial for the model's performance.\\n2. **Bias**: ML models can perpetuate biases present in the data or human decisions.\\n3. **Interpretability**: Understanding how ML models make decisions can be difficult.\\n\\nOverall, machine learning has revolutionized many industries and continues to drive innovation in AI research and development.\""
      ]
     },
     "execution_count": 34,
     "metadata": {},
     "output_type": "execute_result"
    }
   ],
   "source": [
    "chain = model | parser\n",
    "\n",
    "chain.invoke(\"What is machine learning?\")"
   ]
  },
  {
   "cell_type": "code",
   "execution_count": 5,
   "metadata": {},
   "outputs": [
    {
     "data": {
      "text/plain": [
       "'\\nAnswer the question based on the context below. You don\\'t \\nneed to say based on the context or based on this or that.\\nIf you can\\'t answer the question, reply \"I don\\'t know\".\\n\\nContext: The context\\n\\nQuestion: The question\\n'"
      ]
     },
     "execution_count": 5,
     "metadata": {},
     "output_type": "execute_result"
    }
   ],
   "source": [
    "# * Prompt Template\n",
    "from langchain.prompts import PromptTemplate\n",
    "\n",
    "TEMPLATE = \"\"\"\n",
    "Answer the question based on the context below. You don't \n",
    "need to say based on the context or based on this or that.\n",
    "If you can't answer the question, reply \"I don't know\".\n",
    "\n",
    "Context: {context}\n",
    "\n",
    "Question: {question}\n",
    "\"\"\"\n",
    "\n",
    "prompt = PromptTemplate.from_template(template=TEMPLATE)\n",
    "prompt.format(context=\"The context\", question=\"The question\") # * for test"
   ]
  },
  {
   "cell_type": "code",
   "execution_count": 7,
   "metadata": {},
   "outputs": [],
   "source": [
    "# * test the template\n",
    "chain = prompt | model | parser"
   ]
  },
  {
   "cell_type": "code",
   "execution_count": 8,
   "metadata": {},
   "outputs": [
    {
     "data": {
      "text/plain": [
       "{'title': 'PromptInput',\n",
       " 'type': 'object',\n",
       " 'properties': {'context': {'title': 'Context', 'type': 'string'},\n",
       "  'question': {'title': 'Question', 'type': 'string'}}}"
      ]
     },
     "execution_count": 8,
     "metadata": {},
     "output_type": "execute_result"
    }
   ],
   "source": [
    "chain.input_schema.schema()"
   ]
  },
  {
   "cell_type": "code",
   "execution_count": 30,
   "metadata": {},
   "outputs": [
    {
     "data": {
      "text/plain": [
       "'2000'"
      ]
     },
     "execution_count": 30,
     "metadata": {},
     "output_type": "execute_result"
    }
   ],
   "source": [
    "chain.invoke({\n",
    "  \"context\": \"The name Tonni was given to my wife after she was born. She was so much cute while she was born. The time was 2000. Still she is so much beautiful, masha Allah. We say 'Masha Allah' after saying good words.\",\n",
    "  \"question\": \"When my wife was born?\"\n",
    "})"
   ]
  },
  {
   "cell_type": "code",
   "execution_count": 9,
   "metadata": {},
   "outputs": [
    {
     "data": {
      "text/plain": [
       "[Document(page_content='You’re probably aware of the buzz around arti\\x00cial\\nintelligence (AI), language learning (LL), and machine\\nlearning (ML), which impact everything from social media\\nalgorithms to self-driving cars, but you may not know\\nthat the real magic behind these technological\\nadvancements and their query performance is data\\nmanagement. Understanding this data dependence is\\ncrucial for grasping how these emerging technologies\\nare able to produce intelligent decisions so quickly.\\nAt their core, these sophisticated digital technologies\\nrely heavily on data that has been collected and\\nprocessed to ultimately provide intelligent answers from\\na specialized database called a vector database. The\\nprocess starts by turning raw information like words,\\nimages, video or music, into vectors, then feeding them\\ninto a pre-trained machine language model (MLM) thatVector Stores in\\nArti\\x00cial Intelligence (AI)LIVE Watch now: The MongoDB.local NYC keynote. Hear the latest from our CEO! >5/11/24, 9:56 PM Vector Stores In Artiﬁcial Intelligence (AI) | MongoDB\\nhttps://www.mongodb.com/resources/basics/vector-stores 1/12', metadata={'source': 'vector_stores_ mongodb.pdf', 'page': 0}),\n",
       " Document(page_content=\"optimizes the original ones into embeddings, which are\\nhigh dimensional vectors that can be searched in vector\\ndatabases.\\nTable of Contents:\\nRaw data's transformation\\nWhat are vector stores?\\nWhat is a vector in AI?\\nHow are vectors stored so they can be used by AI?\\nUse case for vector stores\\nWhat makes vector stores and vector databases\\ndi\\x00erent from traditional data storage options?\\nWhat is the role of ML models, vector embeddings,\\nand ANN in AI?\\nConclusion\\nRaw data's transformation\\nThis blog post will focus on how data is transformed into\\nvectors and how they are used in vector databases,\\nincluding some discussion around search, vector space,\\nand approximate nearest neighbor.\\nAlthough important, this article will not dig deep into\\nde\\x00ning vector indexes, cosine similarity searches,\\ncosine distance, euclidean distance, orthogonal vectors,\\nor facebook ai similarity search.\\nWhat are vector stores?5/11/24, 9:56 PM Vector Stores In Artiﬁcial Intelligence (AI) | MongoDB\\nhttps://www.mongodb.com/resources/basics/vector-stores 2/12\", metadata={'source': 'vector_stores_ mongodb.pdf', 'page': 1}),\n",
       " Document(page_content=\"Typically found in vector databases, a vector store is a\\ndigital storage system that holds vectors – the unique\\n\\x00ngerprint for a piece of data, whether it's a sentence, an\\nimage, or a user's browsing habits. The vector store not\\nonly keeps these vectors together in a vector space, but\\nalso quickly and e\\x00ciently \\x00nds and places similar\\nvectors or identical vectors near one another.\\nSimilar vectors and increasingly dissimilar vectors are\\nquickly identi\\x00ed so that only the requested vectors are\\nincluded in search results. This is incredibly useful in\\napplications like search engines, recommendation\\nsystems, and AI models, where understanding and\\nmatching similar pieces of data, and eliminating those\\nthat don't apply, is key to producing an accurate\\nresponse.\\nVector stores can also be used behind the scenes in\\nfacial recognition technologies, which helps compare\\nfacial features within vector databases for apps and\\nother technologies that call for it. In addition, Google’s\\nsearch algorithms use vector stores to process vast\\namounts of data from web pages, making search results\\nmore accurate and relevant.\\nBut before diving too deeply into what vector stores and\\nvector databases can do, let’s de\\x00ne what a vector is\\nand how it is used in AI.\\nWhat is a vector in AI?5/11/24, 9:56 PM Vector Stores In Artiﬁcial Intelligence (AI) | MongoDB\\nhttps://www.mongodb.com/resources/basics/vector-stores 3/12\", metadata={'source': 'vector_stores_ mongodb.pdf', 'page': 2}),\n",
       " Document(page_content='You’ve probably heard the word before. Perhaps from\\nthat 80s movie, where the main character, a pilot, says,\\n“What’s the vector, Victor?” Or maybe you remember the\\nterm from your high school physics or math class. No\\nma\\x00er your previous history with the word, it’s important\\nto know how it’s de\\x00ned for data science.\\nIn arti\\x00cial intelligence, a vector is a mathematical point\\nthat represents data in a format that AI algorithms can\\nunderstand. Vectors are arrays (or lists) of numbers, with\\neach number representing a speci\\x00c feature or a\\x00ribute\\nof the data. They are housed in vector stores and used in\\nvector databases in AI applications.\\nFor example, if we wanted to create a vector store\\nfocused on animals, each animal would be represented\\nby a vector that identi\\x00es a\\x00ributes such as their size,\\nspeed, and lifespan. A small, fast animal with a short\\nlifespan might be represented by [1, 10, 3] (1 for small size,\\n10 for high speed, and 3 for short lifespan).\\nAnother example could be a car. Imagine you’re\\nanalyzing di\\x00erent cars based on certain features. Each\\ntype of car is a vector, where each number corresponds\\nto one of these features: speed, fuel e\\x00ciency, and price.\\nA vector for a particular car might look like this: [180, 30,\\n25000].\\nThis means:\\nThe car has a top speed of 180 mph.5/11/24, 9:56 PM Vector Stores In Artiﬁcial Intelligence (AI) | MongoDB\\nhttps://www.mongodb.com/resources/basics/vector-stores 4/12', metadata={'source': 'vector_stores_ mongodb.pdf', 'page': 3}),\n",
       " Document(page_content='It has a fuel e\\x00ciency of 30 miles per gallon.\\nIt costs $25,000.\\nSo, a vector in data science helps you understand and\\nanalyze an object (like a car) in a consistent, structured\\nway. In simple terms, vectors are numerical\\nrepresentations of data. Essentially, all types of data,\\nwhether they are tables, text, images, videos, music, or\\nsounds, can be transformed into multi-dimensional\\nnumerical arrays and fed into a ML model where they can\\nbe manipulated to be stored in multi-dimensional spaces\\nlike vector databases.\\nHow are vectors stored so they can be\\nused by AI?\\nTwo phrases that o\\x00en come up when discussing how\\nvectors are stored are \"vector store\" and \"vector\\nstorage.\" It’s important to point out that these terms are\\nclosely related but can be distinguished based on their\\nusage and context in data science and AI.\\nVector storage\\n\"Vector storage\" is a more general term that refers to the\\nmethod or process of storing vector representations of\\ndata. It encompasses the hardware, so\\x00ware, and\\nalgorithms used for storing them, but not necessarily\\nwithin a speci\\x00c vector database. It’s more about the\\nconcept and practice of handling vector data so it can\\nbe e\\x00ciently used for various computational processes.5/11/24, 9:56 PM Vector Stores In Artiﬁcial Intelligence (AI) | MongoDB\\nhttps://www.mongodb.com/resources/basics/vector-stores 5/12', metadata={'source': 'vector_stores_ mongodb.pdf', 'page': 4}),\n",
       " Document(page_content='Example: In a broader data management system, vector\\nstorage might refer to how user pro\\x00les are stored across\\ndi\\x00erent servers or in the cloud.\\nVector stores\\nA \"vector store\" refers to an actual system or platform\\nthat is designed to handle the complexities and speci\\x00cs\\nof vector data, o\\x00en in association with a vector\\ndatabase, and is used in applications like machine\\nlearning, AI, and data analytics. Vector stores can si\\x00\\nthrough enormous amounts of data at lightning speed,\\nmaking them powerful tools for \\x00nding, organizing, and\\nsuggesting content based on similarities when used in\\nvector databases.\\nBut they\\'re not just digital storage spaces, they’re smart\\nsystems that understand, categorize, and connect\\npieces of digital content in a sophisticated and e\\x00cient\\nway. They’re also scalable, being able to handle large\\nvolumes of vectors, which make them ideal for extensive\\nvector databases of animals, cars, and a wide variety of\\nother data.\\nMongoDB is an example of a vector database that\\n  Unlike enables you to store vectors with their metadata.\\ndedicated standalone vector storage options, however,\\nthe platform enables searching across vectors alongside\\nall your other application data for fast and easy retrieval\\nof complex query combinations that are unique to your\\nuse case. This is important because vectors are not your5/11/24, 9:56 PM Vector Stores In Artiﬁcial Intelligence (AI) | MongoDB\\nhttps://www.mongodb.com/resources/basics/vector-stores 6/12', metadata={'source': 'vector_stores_ mongodb.pdf', 'page': 5}),\n",
       " Document(page_content='only data type, even within generative AI applications,\\nand prevents the need to stitch together various tools.\\nUse case for vector stores\\nAs stated earlier, vectors are lists of numbers where each\\nnumber represents a speci\\x00c feature or a\\x00ribute of the\\ndata. Let’s take a closer look at how that works with a\\nreal life scenario.\\nExample: When you look for a recipe with certain\\ncharacteristics (like low-calorie sauce and gluten-free\\npasta), the vector store conducts a vector search in a\\nvector database that compares these preferences with\\nstored recipe data. It calculates which recipes are most\\nsimilar to your preferences based on the numbers in the\\nvectors. This is akin to \\x00ipping through the pages of a\\ncookbook to \\x00nd recipes that match your needs, but\\nmuch quicker.\\nWhat makes vector stores and vector\\ndatabases di\\x00erent from traditional data\\nstorage options?\\nWhen you hear about data management you might think\\nabout tidy organized tables. This kind of data is known as\\nstructured data because it can be contained in a tabular\\nform. Traditional databases handle this type of data\\neasily. With vector stores and vector databases however,\\nalmost 80% of the data is unstructured and needs a\\nmore complex storage system.5/11/24, 9:56 PM Vector Stores In Artiﬁcial Intelligence (AI) | MongoDB\\nhttps://www.mongodb.com/resources/basics/vector-stores 7/12', metadata={'source': 'vector_stores_ mongodb.pdf', 'page': 6}),\n",
       " Document(page_content=\"Examples of unstructured data are images, text (eg. :\\ndocuments, tweets, or emails). As you have already\\nlearned, vector stores and vector databases are\\ndesigned to handle complexity and fast processing,\\nmaking them more suitable for AI applications.\\nWhat is the role of ML models, vector\\nembeddings, and ANN in AI?\\nIn the illustration at the top of this article, we showed how\\nML models and vector embeddings \\x00t into the process of\\ntransforming raw data into vectors that can be used in\\nvector databases.\\nRaw data comes \\x00rst, followed by vectors, a machine\\nlearning model, and vector embeddings that are made\\navailable for use in vector databases. One additional\\nvector-re\\x00nement process we didn't show in that\\nillustration is the approximate nearest number (ANN),\\nwhich occurs during the embedding step.\\nLet’s take a closer look to learn more about each step.\\nInpu\\x00ing vectors into machine learning models\\nThrough its unique architecture, MLMs process and train\\nvectors. During training, the model adjusts its internal\\nparameters to learn pa\\x00erns and relationships between\\nvectors.In the case of deep learning models, this process\\ninvolves multiple layers of computation, each extracting\\nand learning di\\x00erent features.\\nGenerating embeddings5/11/24, 9:56 PM Vector Stores In Artiﬁcial Intelligence (AI) | MongoDB\\nhttps://www.mongodb.com/resources/basics/vector-stores 8/12\", metadata={'source': 'vector_stores_ mongodb.pdf', 'page': 7}),\n",
       " Document(page_content='As the MLM processes the data, it transforms the initial,\\no\\x00en simplistic, vector to produce sophisticated and\\ninformative vector representations, known as\\nembeddings. In natural language processing, a word\\nembedding vector captures not just the identity of a\\nword, but also its relationship with other words, its\\ncontext, and its usage.\\nUsing embeddings\\nOnce generated, a vector embedding can be used for a\\nvariety of tasks such as classi\\x00cation, prediction,\\nrecommendation, and more. They are particularly useful\\nbecause they reduce the complexity while retaining the\\nessential characteristics needed for these tasks.\\nAdding in ANN\\nSearching for a similar vector (like \\x00nding a word with a\\nsimilar meaning or an image with similar content) in high-\\ndimensional spaces strains systems, especially those with\\na vast amount of data -- this is where approximate\\nnearest neighbor (ANN) comes into play.\\nANN algorithms are designed to quickly \\x00nd\\n\"nearby\" or \"similar\" data points in high-dimensional\\nvectors, like those formed by embeddings.\\nInstead of calculating the exact nearest neighbors,\\nwhich is computationally intensive, ANN algorithms\\nfocus on \\x00nding a \"good enough\" solution.\\nFor example, in a recommendation system, user and\\nitem embeddings might represent users and\\nproducts; the ANN algorithm can quickly identify5/11/24, 9:56 PM Vector Stores In Artiﬁcial Intelligence (AI) | MongoDB\\nhttps://www.mongodb.com/resources/basics/vector-stores 9/12', metadata={'source': 'vector_stores_ mongodb.pdf', 'page': 8}),\n",
       " Document(page_content=\"products that are close to a user's pro\\x00le in the\\nembedding space, thus providing personalized\\nrecommendations in vector databases.\\nConclusion\\nIn summary, vector stores and their integration in AI\\ntechnologies represent a transformative leap in data\\nmanagement and processing. This is evident in a myriad\\nof applications, from search engines to recommendation\\nsystems, and even in cu\\x00ing-edge areas like facial\\nrecognition.\\nAs we continue to advance in the realms of AI and ML,\\nunderstanding and leveraging the capabilities of vector\\nstores will be paramount in driving innovation and\\ncreating solutions that are both sophisticated and highly\\ne\\x00ective.\\nMongoDB is the leading developer data platform that\\nstores and enables sophisticated search across various\\ndata types, including but not limited to vectors. Many\\nleading organizations are building cu\\x00ing edge\\ngenerative AI applications on MongoDB – learn more\\nabout Atlas Vector Search.5/11/24, 9:56 PM Vector Stores In Artiﬁcial Intelligence (AI) | MongoDB\\nhttps://www.mongodb.com/resources/basics/vector-stores 10/12\", metadata={'source': 'vector_stores_ mongodb.pdf', 'page': 9}),\n",
       " Document(page_content='Get Started With MongoDB Atlas\\nTry Free\\nAbout\\nCareers Investor Relations\\nLegal Notices Privacy Notices\\nSecurity Information Trust Center\\nSupport\\nContact Us Customer PortalEnglish5/11/24, 9:56 PM Vector Stores In Artiﬁcial Intelligence (AI) | MongoDB\\nhttps://www.mongodb.com/resources/basics/vector-stores 11/12', metadata={'source': 'vector_stores_ mongodb.pdf', 'page': 10}),\n",
       " Document(page_content='Atlas Status Customer Support\\nManage Cookies\\nSocial\\nGitHub Stack Over\\x00ow\\nLinkedIn YouTube\\nX Twitch\\nFacebook\\n© 2024 MongoDB, Inc.5/11/24, 9:56 PM Vector Stores In Artiﬁcial Intelligence (AI) | MongoDB\\nhttps://www.mongodb.com/resources/basics/vector-stores 12/12', metadata={'source': 'vector_stores_ mongodb.pdf', 'page': 11})]"
      ]
     },
     "execution_count": 9,
     "metadata": {},
     "output_type": "execute_result"
    }
   ],
   "source": [
    "# * load the pdf\n",
    "from langchain_community.document_loaders import PyPDFLoader\n",
    "\n",
    "loader = PyPDFLoader(\"vector_stores_ mongodb.pdf\")\n",
    "pages = loader.load_and_split()\n",
    "pages"
   ]
  },
  {
   "cell_type": "code",
   "execution_count": 41,
   "metadata": {},
   "outputs": [],
   "source": [
    "# * embedding & vetorization\n",
    "from langchain_community.vectorstores import DocArrayInMemorySearch\n",
    "vectorstore = DocArrayInMemorySearch.from_documents(pages, embedding=embeddings) "
   ]
  },
  {
   "cell_type": "code",
   "execution_count": 42,
   "metadata": {},
   "outputs": [],
   "source": [
    "# * retrieve\n",
    "retriever = vectorstore.as_retriever()"
   ]
  },
  {
   "cell_type": "code",
   "execution_count": 43,
   "metadata": {},
   "outputs": [
    {
     "data": {
      "text/plain": [
       "[Document(page_content='Atlas Status Customer Support\\nManage Cookies\\nSocial\\nGitHub Stack Over\\x00ow\\nLinkedIn YouTube\\nX Twitch\\nFacebook\\n© 2024 MongoDB, Inc.5/11/24, 9:56 PM Vector Stores In Artiﬁcial Intelligence (AI) | MongoDB\\nhttps://www.mongodb.com/resources/basics/vector-stores 12/12', metadata={'source': 'vector_stores_ mongodb.pdf', 'page': 11}),\n",
       " Document(page_content='Get Started With MongoDB Atlas\\nTry Free\\nAbout\\nCareers Investor Relations\\nLegal Notices Privacy Notices\\nSecurity Information Trust Center\\nSupport\\nContact Us Customer PortalEnglish5/11/24, 9:56 PM Vector Stores In Artiﬁcial Intelligence (AI) | MongoDB\\nhttps://www.mongodb.com/resources/basics/vector-stores 11/12', metadata={'source': 'vector_stores_ mongodb.pdf', 'page': 10}),\n",
       " Document(page_content='You’re probably aware of the buzz around arti\\x00cial\\nintelligence (AI), language learning (LL), and machine\\nlearning (ML), which impact everything from social media\\nalgorithms to self-driving cars, but you may not know\\nthat the real magic behind these technological\\nadvancements and their query performance is data\\nmanagement. Understanding this data dependence is\\ncrucial for grasping how these emerging technologies\\nare able to produce intelligent decisions so quickly.\\nAt their core, these sophisticated digital technologies\\nrely heavily on data that has been collected and\\nprocessed to ultimately provide intelligent answers from\\na specialized database called a vector database. The\\nprocess starts by turning raw information like words,\\nimages, video or music, into vectors, then feeding them\\ninto a pre-trained machine language model (MLM) thatVector Stores in\\nArti\\x00cial Intelligence (AI)LIVE Watch now: The MongoDB.local NYC keynote. Hear the latest from our CEO! >5/11/24, 9:56 PM Vector Stores In Artiﬁcial Intelligence (AI) | MongoDB\\nhttps://www.mongodb.com/resources/basics/vector-stores 1/12', metadata={'source': 'vector_stores_ mongodb.pdf', 'page': 0}),\n",
       " Document(page_content='As the MLM processes the data, it transforms the initial,\\no\\x00en simplistic, vector to produce sophisticated and\\ninformative vector representations, known as\\nembeddings. In natural language processing, a word\\nembedding vector captures not just the identity of a\\nword, but also its relationship with other words, its\\ncontext, and its usage.\\nUsing embeddings\\nOnce generated, a vector embedding can be used for a\\nvariety of tasks such as classi\\x00cation, prediction,\\nrecommendation, and more. They are particularly useful\\nbecause they reduce the complexity while retaining the\\nessential characteristics needed for these tasks.\\nAdding in ANN\\nSearching for a similar vector (like \\x00nding a word with a\\nsimilar meaning or an image with similar content) in high-\\ndimensional spaces strains systems, especially those with\\na vast amount of data -- this is where approximate\\nnearest neighbor (ANN) comes into play.\\nANN algorithms are designed to quickly \\x00nd\\n\"nearby\" or \"similar\" data points in high-dimensional\\nvectors, like those formed by embeddings.\\nInstead of calculating the exact nearest neighbors,\\nwhich is computationally intensive, ANN algorithms\\nfocus on \\x00nding a \"good enough\" solution.\\nFor example, in a recommendation system, user and\\nitem embeddings might represent users and\\nproducts; the ANN algorithm can quickly identify5/11/24, 9:56 PM Vector Stores In Artiﬁcial Intelligence (AI) | MongoDB\\nhttps://www.mongodb.com/resources/basics/vector-stores 9/12', metadata={'source': 'vector_stores_ mongodb.pdf', 'page': 8})]"
      ]
     },
     "execution_count": 43,
     "metadata": {},
     "output_type": "execute_result"
    }
   ],
   "source": [
    "retriever.invoke(\"Vector store\")"
   ]
  },
  {
   "cell_type": "code",
   "execution_count": 10,
   "metadata": {},
   "outputs": [],
   "source": [
    "# * vector store: Pinecone\n",
    "from langchain_pinecone import PineconeVectorStore\n",
    "\n",
    "index_name = \"my-first-rag\"\n",
    "\n",
    "pinecone = PineconeVectorStore.from_documents(pages, embedding=embeddings, index_name=index_name, pinecone_api_key=PINECONE_API_KEY)"
   ]
  },
  {
   "cell_type": "code",
   "execution_count": 11,
   "metadata": {},
   "outputs": [],
   "source": [
    "retriever_pinecone = pinecone.as_retriever()"
   ]
  },
  {
   "cell_type": "code",
   "execution_count": 13,
   "metadata": {},
   "outputs": [
    {
     "data": {
      "text/plain": [
       "[Document(page_content='Atlas Status Customer Support\\nManage Cookies\\nSocial\\nGitHub Stack Over\\x00ow\\nLinkedIn YouTube\\nX Twitch\\nFacebook\\n© 2024 MongoDB, Inc.5/11/24, 9:56 PM Vector Stores In Artiﬁcial Intelligence (AI) | MongoDB\\nhttps://www.mongodb.com/resources/basics/vector-stores 12/12', metadata={'page': 11.0, 'source': 'vector_stores_ mongodb.pdf'}),\n",
       " Document(page_content='Get Started With MongoDB Atlas\\nTry Free\\nAbout\\nCareers Investor Relations\\nLegal Notices Privacy Notices\\nSecurity Information Trust Center\\nSupport\\nContact Us Customer PortalEnglish5/11/24, 9:56 PM Vector Stores In Artiﬁcial Intelligence (AI) | MongoDB\\nhttps://www.mongodb.com/resources/basics/vector-stores 11/12', metadata={'page': 10.0, 'source': 'vector_stores_ mongodb.pdf'}),\n",
       " Document(page_content='You’re probably aware of the buzz around arti\\x00cial\\nintelligence (AI), language learning (LL), and machine\\nlearning (ML), which impact everything from social media\\nalgorithms to self-driving cars, but you may not know\\nthat the real magic behind these technological\\nadvancements and their query performance is data\\nmanagement. Understanding this data dependence is\\ncrucial for grasping how these emerging technologies\\nare able to produce intelligent decisions so quickly.\\nAt their core, these sophisticated digital technologies\\nrely heavily on data that has been collected and\\nprocessed to ultimately provide intelligent answers from\\na specialized database called a vector database. The\\nprocess starts by turning raw information like words,\\nimages, video or music, into vectors, then feeding them\\ninto a pre-trained machine language model (MLM) thatVector Stores in\\nArti\\x00cial Intelligence (AI)LIVE Watch now: The MongoDB.local NYC keynote. Hear the latest from our CEO! >5/11/24, 9:56 PM Vector Stores In Artiﬁcial Intelligence (AI) | MongoDB\\nhttps://www.mongodb.com/resources/basics/vector-stores 1/12', metadata={'page': 0.0, 'source': 'vector_stores_ mongodb.pdf'}),\n",
       " Document(page_content='As the MLM processes the data, it transforms the initial,\\no\\x00en simplistic, vector to produce sophisticated and\\ninformative vector representations, known as\\nembeddings. In natural language processing, a word\\nembedding vector captures not just the identity of a\\nword, but also its relationship with other words, its\\ncontext, and its usage.\\nUsing embeddings\\nOnce generated, a vector embedding can be used for a\\nvariety of tasks such as classi\\x00cation, prediction,\\nrecommendation, and more. They are particularly useful\\nbecause they reduce the complexity while retaining the\\nessential characteristics needed for these tasks.\\nAdding in ANN\\nSearching for a similar vector (like \\x00nding a word with a\\nsimilar meaning or an image with similar content) in high-\\ndimensional spaces strains systems, especially those with\\na vast amount of data -- this is where approximate\\nnearest neighbor (ANN) comes into play.\\nANN algorithms are designed to quickly \\x00nd\\n\"nearby\" or \"similar\" data points in high-dimensional\\nvectors, like those formed by embeddings.\\nInstead of calculating the exact nearest neighbors,\\nwhich is computationally intensive, ANN algorithms\\nfocus on \\x00nding a \"good enough\" solution.\\nFor example, in a recommendation system, user and\\nitem embeddings might represent users and\\nproducts; the ANN algorithm can quickly identify5/11/24, 9:56 PM Vector Stores In Artiﬁcial Intelligence (AI) | MongoDB\\nhttps://www.mongodb.com/resources/basics/vector-stores 9/12', metadata={'page': 8.0, 'source': 'vector_stores_ mongodb.pdf'})]"
      ]
     },
     "execution_count": 13,
     "metadata": {},
     "output_type": "execute_result"
    }
   ],
   "source": [
    "retriever_pinecone.invoke(\"Vector store\")"
   ]
  },
  {
   "cell_type": "code",
   "execution_count": 14,
   "metadata": {},
   "outputs": [],
   "source": [
    "from operator import itemgetter\n",
    "\n",
    "chain = (\n",
    "  {\n",
    "    # \"context\": itemgetter(\"question\") | retriever,\n",
    "    \"context\": itemgetter(\"question\") | retriever_pinecone,\n",
    "    \"question\": itemgetter(\"question\")\n",
    "  }\n",
    "  | prompt\n",
    "  | model\n",
    "  | parser\n",
    ")"
   ]
  },
  {
   "cell_type": "code",
   "execution_count": 15,
   "metadata": {},
   "outputs": [
    {
     "data": {
      "text/plain": [
       "'Vectorization is not explicitly mentioned in the provided context. However, based on the information available, it can be inferred that vectorization refers to the process of transforming raw data into vectors, which are high-dimensional vectors that can be searched in vector databases. This is discussed in the section \"Raw data\\'s transformation\" and also briefly mentioned in the section \"What is a vector in AI?\".'"
      ]
     },
     "execution_count": 15,
     "metadata": {},
     "output_type": "execute_result"
    }
   ],
   "source": [
    "chain.invoke({\"question\": \"What is vectorization?\"})"
   ]
  },
  {
   "cell_type": "code",
   "execution_count": 16,
   "metadata": {},
   "outputs": [
    {
     "data": {
      "text/plain": [
       "[Document(page_content=\"optimizes the original ones into embeddings, which are\\nhigh dimensional vectors that can be searched in vector\\ndatabases.\\nTable of Contents:\\nRaw data's transformation\\nWhat are vector stores?\\nWhat is a vector in AI?\\nHow are vectors stored so they can be used by AI?\\nUse case for vector stores\\nWhat makes vector stores and vector databases\\ndi\\x00erent from traditional data storage options?\\nWhat is the role of ML models, vector embeddings,\\nand ANN in AI?\\nConclusion\\nRaw data's transformation\\nThis blog post will focus on how data is transformed into\\nvectors and how they are used in vector databases,\\nincluding some discussion around search, vector space,\\nand approximate nearest neighbor.\\nAlthough important, this article will not dig deep into\\nde\\x00ning vector indexes, cosine similarity searches,\\ncosine distance, euclidean distance, orthogonal vectors,\\nor facebook ai similarity search.\\nWhat are vector stores?5/11/24, 9:56 PM Vector Stores In Artiﬁcial Intelligence (AI) | MongoDB\\nhttps://www.mongodb.com/resources/basics/vector-stores 2/12\", metadata={'page': 1.0, 'source': 'vector_stores_ mongodb.pdf'}),\n",
       " Document(page_content='only data type, even within generative AI applications,\\nand prevents the need to stitch together various tools.\\nUse case for vector stores\\nAs stated earlier, vectors are lists of numbers where each\\nnumber represents a speci\\x00c feature or a\\x00ribute of the\\ndata. Let’s take a closer look at how that works with a\\nreal life scenario.\\nExample: When you look for a recipe with certain\\ncharacteristics (like low-calorie sauce and gluten-free\\npasta), the vector store conducts a vector search in a\\nvector database that compares these preferences with\\nstored recipe data. It calculates which recipes are most\\nsimilar to your preferences based on the numbers in the\\nvectors. This is akin to \\x00ipping through the pages of a\\ncookbook to \\x00nd recipes that match your needs, but\\nmuch quicker.\\nWhat makes vector stores and vector\\ndatabases di\\x00erent from traditional data\\nstorage options?\\nWhen you hear about data management you might think\\nabout tidy organized tables. This kind of data is known as\\nstructured data because it can be contained in a tabular\\nform. Traditional databases handle this type of data\\neasily. With vector stores and vector databases however,\\nalmost 80% of the data is unstructured and needs a\\nmore complex storage system.5/11/24, 9:56 PM Vector Stores In Artiﬁcial Intelligence (AI) | MongoDB\\nhttps://www.mongodb.com/resources/basics/vector-stores 7/12', metadata={'page': 6.0, 'source': 'vector_stores_ mongodb.pdf'}),\n",
       " Document(page_content=\"Typically found in vector databases, a vector store is a\\ndigital storage system that holds vectors – the unique\\n\\x00ngerprint for a piece of data, whether it's a sentence, an\\nimage, or a user's browsing habits. The vector store not\\nonly keeps these vectors together in a vector space, but\\nalso quickly and e\\x00ciently \\x00nds and places similar\\nvectors or identical vectors near one another.\\nSimilar vectors and increasingly dissimilar vectors are\\nquickly identi\\x00ed so that only the requested vectors are\\nincluded in search results. This is incredibly useful in\\napplications like search engines, recommendation\\nsystems, and AI models, where understanding and\\nmatching similar pieces of data, and eliminating those\\nthat don't apply, is key to producing an accurate\\nresponse.\\nVector stores can also be used behind the scenes in\\nfacial recognition technologies, which helps compare\\nfacial features within vector databases for apps and\\nother technologies that call for it. In addition, Google’s\\nsearch algorithms use vector stores to process vast\\namounts of data from web pages, making search results\\nmore accurate and relevant.\\nBut before diving too deeply into what vector stores and\\nvector databases can do, let’s de\\x00ne what a vector is\\nand how it is used in AI.\\nWhat is a vector in AI?5/11/24, 9:56 PM Vector Stores In Artiﬁcial Intelligence (AI) | MongoDB\\nhttps://www.mongodb.com/resources/basics/vector-stores 3/12\", metadata={'page': 2.0, 'source': 'vector_stores_ mongodb.pdf'}),\n",
       " Document(page_content=\"products that are close to a user's pro\\x00le in the\\nembedding space, thus providing personalized\\nrecommendations in vector databases.\\nConclusion\\nIn summary, vector stores and their integration in AI\\ntechnologies represent a transformative leap in data\\nmanagement and processing. This is evident in a myriad\\nof applications, from search engines to recommendation\\nsystems, and even in cu\\x00ing-edge areas like facial\\nrecognition.\\nAs we continue to advance in the realms of AI and ML,\\nunderstanding and leveraging the capabilities of vector\\nstores will be paramount in driving innovation and\\ncreating solutions that are both sophisticated and highly\\ne\\x00ective.\\nMongoDB is the leading developer data platform that\\nstores and enables sophisticated search across various\\ndata types, including but not limited to vectors. Many\\nleading organizations are building cu\\x00ing edge\\ngenerative AI applications on MongoDB – learn more\\nabout Atlas Vector Search.5/11/24, 9:56 PM Vector Stores In Artiﬁcial Intelligence (AI) | MongoDB\\nhttps://www.mongodb.com/resources/basics/vector-stores 10/12\", metadata={'page': 9.0, 'source': 'vector_stores_ mongodb.pdf'})]"
      ]
     },
     "execution_count": 16,
     "metadata": {},
     "output_type": "execute_result"
    }
   ],
   "source": [
    "# * an example of RunnablePassthrough\n",
    "from langchain_core.runnables import RunnablePassthrough\n",
    "from operator import itemgetter\n",
    "from langchain_pinecone import PineconeVectorStore\n",
    "\n",
    "# * When already data in pinecone\n",
    "index_name = \"my-first-rag\"\n",
    "\n",
    "pinecone = PineconeVectorStore(embedding=embeddings, index_name=index_name, pinecone_api_key=PINECONE_API_KEY)\n",
    "retriever = pinecone.as_retriever()\n",
    "chain = (\n",
    "  {\n",
    "    # \"context\": retriever,\n",
    "    # \"question\": RunnablePassthrough()\n",
    "    \"context\": itemgetter(\"question\") | retriever,\n",
    "    \"question\": itemgetter(\"question\")\n",
    "  }\n",
    "  | prompt\n",
    "  | model\n",
    "  | parser\n",
    ")"
   ]
  },
  {
   "cell_type": "code",
   "execution_count": 17,
   "metadata": {},
   "outputs": [
    {
     "data": {
      "text/plain": [
       "\"According to the provided context, some use cases for vector stores include:\\n\\n1. Searching for recipes with certain characteristics (e.g., low-calorie sauce and gluten-free pasta) in a recipe database.\\n2. Processing vast amounts of data from web pages in search engines to produce more accurate and relevant search results.\\n3. Facilitating facial recognition technologies by comparing facial features within vector databases.\\n4. Providing personalized recommendations in e-commerce applications by suggesting products that are close to a user's profile in the embedding space.\\n\\nThese use cases demonstrate the potential of vector stores for various AI-powered applications, including search engines, recommendation systems, and facial recognition technologies.\""
      ]
     },
     "execution_count": 17,
     "metadata": {},
     "output_type": "execute_result"
    }
   ],
   "source": [
    "chain.invoke({\"question\": \"What are the use cases for vector stores?\"})"
   ]
  },
  {
   "cell_type": "code",
   "execution_count": 18,
   "metadata": {},
   "outputs": [
    {
     "name": "stdout",
     "output_type": "stream",
     "text": [
      "Almost 80% of the data is unstructured and needs a more complex storage system.\n"
     ]
    }
   ],
   "source": [
    "ans = chain.invoke({\"question\": \"What is amount of unstructured data?\"})\n",
    "\n",
    "print(ans)"
   ]
  }
 ],
 "metadata": {
  "kernelspec": {
   "display_name": ".venv",
   "language": "python",
   "name": "python3"
  },
  "language_info": {
   "codemirror_mode": {
    "name": "ipython",
    "version": 3
   },
   "file_extension": ".py",
   "mimetype": "text/x-python",
   "name": "python",
   "nbconvert_exporter": "python",
   "pygments_lexer": "ipython3",
   "version": "3.10.12"
  }
 },
 "nbformat": 4,
 "nbformat_minor": 2
}
